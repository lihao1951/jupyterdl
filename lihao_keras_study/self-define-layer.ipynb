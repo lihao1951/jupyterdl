{
 "cells": [
  {
   "cell_type": "markdown",
   "metadata": {},
   "source": [
    "# 编写自定义层和模型"
   ]
  },
  {
   "cell_type": "code",
   "execution_count": 2,
   "metadata": {},
   "outputs": [],
   "source": [
    "import tensorflow as tf\n",
    "from tensorflow import keras"
   ]
  },
  {
   "cell_type": "markdown",
   "metadata": {},
   "source": [
    "## Layer类可自定义权重和一些计算\n",
    "call方法对输入进行转换"
   ]
  },
  {
   "cell_type": "code",
   "execution_count": 10,
   "metadata": {},
   "outputs": [
    {
     "name": "stdout",
     "output_type": "stream",
     "text": [
      "tf.Tensor(\n",
      "[[0. 0. 0. 0.]\n",
      " [0. 0. 0. 0.]], shape=(2, 4), dtype=float32)\n"
     ]
    }
   ],
   "source": [
    "class Linear(keras.layers.Layer):\n",
    "    def __init__(self,units=32,input_dim=32):\n",
    "        super().__init__()\n",
    "        # add_weight(name,shape,dtype,initializer,regularizer,trainable) 常用参数\n",
    "        self.w=self.add_weight(shape=(input_dim,units),dtype=\"float32\",name=\"w\",trainable=True,initializer=\"zeros\")\n",
    "        self.b=self.add_weight(shape=(units,),dtype=\"float32\",name=\"b\",trainable=True,initializer=\"zeros\")\n",
    "    def call(self,inputs):\n",
    "        return tf.matmul(inputs,self.w)+self.b\n",
    "    \n",
    "x=tf.ones((2,2))\n",
    "linear_layer=Linear(4,2)\n",
    "y=linear_layer(x)\n",
    "print(y)"
   ]
  },
  {
   "cell_type": "code",
   "execution_count": 6,
   "metadata": {},
   "outputs": [
    {
     "data": {
      "text/plain": [
       "TensorShape([2, 4])"
      ]
     },
     "execution_count": 6,
     "metadata": {},
     "output_type": "execute_result"
    }
   ],
   "source": [
    "y.shape"
   ]
  },
  {
   "cell_type": "code",
   "execution_count": 12,
   "metadata": {},
   "outputs": [
    {
     "name": "stdout",
     "output_type": "stream",
     "text": [
      "[2. 2.]\n",
      "[4. 4.]\n",
      "weights: [<tf.Variable 'total:0' shape=(2,) dtype=float32, numpy=array([4., 4.], dtype=float32)>]\n",
      "non-trainable weights: [<tf.Variable 'total:0' shape=(2,) dtype=float32, numpy=array([4., 4.], dtype=float32)>]\n",
      "trainable_weights: []\n"
     ]
    }
   ],
   "source": [
    "# 也可以定义非trainable的数据\n",
    "class ComputeSum(keras.layers.Layer):\n",
    "    def __init__(self,input_dim):\n",
    "        super().__init__()\n",
    "        self.total=self.add_weight(shape=(input_dim,),initializer=\"zeros\",trainable=False,name=\"total\")\n",
    "    def call(self,inputs):\n",
    "        self.total.assign_add(tf.reduce_sum(inputs,axis=0))\n",
    "        return self.total\n",
    "x = tf.ones((2, 2))\n",
    "my_sum = ComputeSum(2)\n",
    "y = my_sum(x)\n",
    "print(y.numpy())\n",
    "y = my_sum(x)\n",
    "print(y.numpy())\n",
    "print(\"weights:\", my_sum.weights)\n",
    "print(\"non-trainable weights:\", my_sum.non_trainable_weights)\n",
    "\n",
    "# It's not included in the trainable weights:\n",
    "print(\"trainable_weights:\", my_sum.trainable_weights)"
   ]
  },
  {
   "cell_type": "markdown",
   "metadata": {},
   "source": [
    "** 上面的参数是在__init__里面指定的，但是实际应用中 我们会不专门指定大小，这就需要在传入输入后自动获取大小：在build方法里传入input的shape，然后在里面创建参数  **\n",
    "\n",
    "`如下所示`"
   ]
  },
  {
   "cell_type": "code",
   "execution_count": 15,
   "metadata": {},
   "outputs": [
    {
     "name": "stdout",
     "output_type": "stream",
     "text": [
      "tf.Tensor(\n",
      "[[0. 0. 0. 0.]\n",
      " [0. 0. 0. 0.]], shape=(2, 4), dtype=float32)\n"
     ]
    }
   ],
   "source": [
    "class Linear(keras.layers.Layer):\n",
    "    def __init__(self,units=32):\n",
    "        super().__init__()\n",
    "        self.units=units\n",
    "        \n",
    "    def build(self,input_shape):\n",
    "        \"\"\"__call__方法会使得 在第一次调用时运行build方法，即创建对象不会运行 执行对象时会运行\"\"\"\n",
    "        self.w=self.add_weight(shape=(input_shape[-1],self.units),dtype=\"float32\",name=\"w\",trainable=True,initializer=\"zeros\")\n",
    "        self.b=self.add_weight(shape=(self.units,),dtype=\"float32\",name=\"b\",trainable=True,initializer=\"zeros\")\n",
    "        \n",
    "    def call(self,inputs):\n",
    "        return tf.matmul(inputs,self.w)+self.b\n",
    "    \n",
    "x=tf.ones((2,2))\n",
    "# 不运行build\n",
    "linear_layer=Linear(4)\n",
    "# 运行build\n",
    "y=linear_layer(x)\n",
    "print(y)"
   ]
  },
  {
   "cell_type": "markdown",
   "metadata": {},
   "source": [
    "## 层内也是可以组合的\n",
    "**  比如在一个Layer实现类中 增加多个Layer实现类 **\n",
    "\n",
    "`示例如下`"
   ]
  },
  {
   "cell_type": "code",
   "execution_count": 16,
   "metadata": {},
   "outputs": [
    {
     "name": "stdout",
     "output_type": "stream",
     "text": [
      "weights: 6\n",
      "trainable weights: 6\n"
     ]
    }
   ],
   "source": [
    "class MLPBlock(keras.layers.Layer):\n",
    "    def __init__(self):\n",
    "        super(MLPBlock, self).__init__()\n",
    "        self.linear_1 = Linear(32)\n",
    "        self.linear_2 = Linear(32)\n",
    "        self.linear_3 = Linear(1)\n",
    "\n",
    "    def call(self, inputs):\n",
    "        x = self.linear_1(inputs)\n",
    "        x = tf.nn.relu(x)\n",
    "        x = self.linear_2(x)\n",
    "        x = tf.nn.relu(x)\n",
    "        return self.linear_3(x)\n",
    "\n",
    "\n",
    "mlp = MLPBlock()\n",
    "y = mlp(tf.ones(shape=(3, 64)))  # The first call to the `mlp` will create the weights\n",
    "print(\"weights:\", len(mlp.weights))\n",
    "print(\"trainable weights:\", len(mlp.trainable_weights))"
   ]
  },
  {
   "cell_type": "markdown",
   "metadata": {},
   "source": [
    "## add_loss 方法\n",
    "** 当调用call方法，可以在其中添加add_loss 操作，这些添加的loss会追加到layer.losses里去，并且每次运行一次__call__ ，就会把losses中的loss重置**"
   ]
  },
  {
   "cell_type": "code",
   "execution_count": 17,
   "metadata": {},
   "outputs": [],
   "source": [
    "class OuterLayer(keras.layers.Layer):\n",
    "    def __init__(self,rate=1e-2):\n",
    "        super().__init__()\n",
    "        self.rate=rate\n",
    "    def call(self,inputs):\n",
    "        self.add_loss(self.rate*tf.reduce_sum(inputs))\n",
    "        return inouts"
   ]
  },
  {
   "cell_type": "markdown",
   "metadata": {},
   "source": [
    "## add_metric方法\n",
    "** 和add_loss方法类似的使用，用来计算评估的内容 ** "
   ]
  },
  {
   "cell_type": "markdown",
   "metadata": {},
   "source": [
    "## get_config方法\n",
    "** 可以定义这个方法返回layer的参数等信息，可以通过Layer.from_config的方法重构这个层 **"
   ]
  },
  {
   "cell_type": "markdown",
   "metadata": {},
   "source": [
    "** 当你使用这个方法时，可以在init中调用父类的实现（传入dtype以及name），然后在get_config中调用父类的get_config得到config，再用config的update参数，将本层的参数更新进入config **"
   ]
  },
  {
   "cell_type": "code",
   "execution_count": 20,
   "metadata": {},
   "outputs": [
    {
     "name": "stdout",
     "output_type": "stream",
     "text": [
      "<__main__.Linear object at 0x000001B2D1FD0C50>\n",
      "{'name': 'linear_11', 'trainable': True, 'dtype': 'float32', 'units': 64}\n",
      "<__main__.Linear object at 0x000001B2D1FD0DA0>\n"
     ]
    }
   ],
   "source": [
    "class Linear(keras.layers.Layer):\n",
    "    def __init__(self, units=32, **kwargs):\n",
    "        super(Linear, self).__init__(**kwargs)\n",
    "        self.units = units\n",
    "\n",
    "    def build(self, input_shape):\n",
    "        self.w = self.add_weight(\n",
    "            shape=(input_shape[-1], self.units),\n",
    "            initializer=\"random_normal\",\n",
    "            trainable=True,\n",
    "        )\n",
    "        self.b = self.add_weight(\n",
    "            shape=(self.units,), initializer=\"random_normal\", trainable=True\n",
    "        )\n",
    "\n",
    "    def call(self, inputs):\n",
    "        return tf.matmul(inputs, self.w) + self.b\n",
    "\n",
    "    def get_config(self):\n",
    "        config = super(Linear, self).get_config()\n",
    "        config.update({\"units\": self.units})\n",
    "        return config\n",
    "\n",
    "\n",
    "layer = Linear(64)\n",
    "print(layer)\n",
    "config = layer.get_config()\n",
    "print(config)\n",
    "new_layer = Linear.from_config(config)\n",
    "print(new_layer)"
   ]
  },
  {
   "cell_type": "markdown",
   "metadata": {},
   "source": []
  },
  {
   "cell_type": "code",
   "execution_count": null,
   "metadata": {},
   "outputs": [],
   "source": []
  }
 ],
 "metadata": {
  "kernelspec": {
   "display_name": "tf2",
   "language": "python",
   "name": "tf2"
  },
  "language_info": {
   "codemirror_mode": {
    "name": "ipython",
    "version": 3
   },
   "file_extension": ".py",
   "mimetype": "text/x-python",
   "name": "python",
   "nbconvert_exporter": "python",
   "pygments_lexer": "ipython3",
   "version": "3.7.2"
  }
 },
 "nbformat": 4,
 "nbformat_minor": 2
}
