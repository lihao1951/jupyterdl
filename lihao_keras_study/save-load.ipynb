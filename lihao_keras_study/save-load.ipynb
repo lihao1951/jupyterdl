{
 "cells": [
  {
   "cell_type": "markdown",
   "metadata": {},
   "source": [
    "# 保存及序列化模型\n",
    "## 简单的save和load接口\n",
    "\n",
    "```python\n",
    "# save\n",
    "model = ...\n",
    "model.save(\"path\")\n",
    "# load\n",
    "model = keras.models.load_model(\"path\")\n",
    "```"
   ]
  },
  {
   "cell_type": "markdown",
   "metadata": {},
   "source": [
    "上述操作是把整个模型进行保存和加载，可以保存为** .h5 ** 结尾的存储格式，也可以保存为** the TensorFlow SavedModel 格式 ** ，推荐的是第二种。\n",
    "当调用第二种时，会在路径下保存一些数据包括（assets，save_model.pb，variables）。模型结构、训练配置（优化器、损失、评估）保存在*.pb，模型参数保存在variables里。"
   ]
  },
  {
   "cell_type": "code",
   "execution_count": null,
   "metadata": {},
   "outputs": [],
   "source": []
  }
 ],
 "metadata": {
  "kernelspec": {
   "display_name": "tf2",
   "language": "python",
   "name": "tf2"
  },
  "language_info": {
   "codemirror_mode": {
    "name": "ipython",
    "version": 3
   },
   "file_extension": ".py",
   "mimetype": "text/x-python",
   "name": "python",
   "nbconvert_exporter": "python",
   "pygments_lexer": "ipython3",
   "version": "3.7.2"
  }
 },
 "nbformat": 4,
 "nbformat_minor": 2
}
