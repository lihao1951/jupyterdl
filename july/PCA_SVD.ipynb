{
 "cells": [
  {
   "cell_type": "markdown",
   "metadata": {},
   "source": [
    "# PCA/SVD"
   ]
  },
  {
   "cell_type": "markdown",
   "metadata": {},
   "source": [
    "结论:实对称阵的不同特征值对应的特征向量一定是正交的\n",
    "求方差最大化的PCA：先求A的协方差矩阵，然后对该矩阵求他的特征值和特征向量，取前K个特征值即可\n",
    "PCA应用\n",
    "- 去噪\n",
    "- 降维\n",
    "\n",
    "当XY独立时，$E(XY)=E(X)E(Y)$\n",
    "\n",
    "而 $Cov(X,Y)=E(XY)-E(X)E(Y)$\n",
    "\n",
    "从而当XY独立时，他们之间的协方差为0，可称为XY不想关"
   ]
  },
  {
   "cell_type": "markdown",
   "metadata": {},
   "source": [
    "协方差的上界\n",
    "$Var(Y)=\\sigma_2^2,Var(X)=\\sigma_1^2$\n",
    "\n",
    "则$|Cov(X,Y)|<=\\sigma_1\\sigma_2$\n",
    "\n"
   ]
  },
  {
   "cell_type": "markdown",
   "metadata": {},
   "source": [
    "相关系数：标准化后的协方差\n",
    "\n",
    "探究相关系数和向量夹角的关系：其实文档之间用夹角余弦是因为这一物理量表征了文档去均值化之后的随机变量间的相关系数 \n",
    "---\n",
    " "
   ]
  },
  {
   "cell_type": "code",
   "execution_count": 1,
   "metadata": {},
   "outputs": [
    {
     "data": {
      "text/plain": [
       "PCA(copy=True, iterated_power='auto', n_components='mle', random_state=None,\n",
       "  svd_solver='auto', tol=0.0, whiten=False)"
      ]
     },
     "execution_count": 1,
     "metadata": {},
     "output_type": "execute_result"
    }
   ],
   "source": [
    "from sklearn.decomposition import PCA\n",
    "import numpy as np\n",
    "X = np.array([[-1, -1], [-2, -1], [-3, -2], [1, 1], [2, 1], [3, 2]])\n",
    "pca = PCA(n_components='mle',copy=True,whiten=False)\n",
    "pca.fit(X)"
   ]
  },
  {
   "cell_type": "code",
   "execution_count": 2,
   "metadata": {},
   "outputs": [
    {
     "data": {
      "text/plain": [
       "array([[-0.83849224, -0.54491354]])"
      ]
     },
     "execution_count": 2,
     "metadata": {},
     "output_type": "execute_result"
    }
   ],
   "source": [
    "pca.components_"
   ]
  },
  {
   "cell_type": "code",
   "execution_count": 3,
   "metadata": {},
   "outputs": [
    {
     "data": {
      "text/plain": [
       "array([0.99244289])"
      ]
     },
     "execution_count": 3,
     "metadata": {},
     "output_type": "execute_result"
    }
   ],
   "source": [
    "pca.explained_variance_ratio_"
   ]
  },
  {
   "cell_type": "code",
   "execution_count": 4,
   "metadata": {},
   "outputs": [
    {
     "data": {
      "text/plain": [
       "1"
      ]
     },
     "execution_count": 4,
     "metadata": {},
     "output_type": "execute_result"
    }
   ],
   "source": [
    "pca.n_components_"
   ]
  },
  {
   "cell_type": "code",
   "execution_count": 5,
   "metadata": {},
   "outputs": [
    {
     "data": {
      "text/plain": [
       "'mle'"
      ]
     },
     "execution_count": 5,
     "metadata": {},
     "output_type": "execute_result"
    }
   ],
   "source": [
    "pca.n_components"
   ]
  },
  {
   "cell_type": "code",
   "execution_count": 6,
   "metadata": {},
   "outputs": [
    {
     "data": {
      "text/plain": [
       "array([[ 1.38340578],\n",
       "       [ 2.22189802],\n",
       "       [ 3.6053038 ],\n",
       "       [-1.38340578],\n",
       "       [-2.22189802],\n",
       "       [-3.6053038 ]])"
      ]
     },
     "execution_count": 6,
     "metadata": {},
     "output_type": "execute_result"
    }
   ],
   "source": [
    "pca.transform(X)"
   ]
  },
  {
   "cell_type": "markdown",
   "metadata": {},
   "source": [
    "# SVD\n",
    "在矩阵A的奇异值分解中 $A=U \\Sigma V^T$\n",
    "U的列组成一族对A的正交输入或分析的基向量，这些向量也是$A A^T$的特征向量，\n",
    "V的咧组成一族对A的正交输出的基向量，这些向量是$A^T A$的特征向量，\n",
    "$\\Sigma$的对角线上的元素是奇异值，可视为是在输入和输出之间进行的标量的膨胀控制，这是$A^TA 与 A A^T$的奇异值，并于U和V的列向量对应 \n",
    "\n",
    "实际中，往往只保留$\\Sigma$中前K个较大的数\n",
    "\n",
    "PLSA（主题模型） 可以看作概率化的矩阵分解"
   ]
  },
  {
   "cell_type": "code",
   "execution_count": 8,
   "metadata": {},
   "outputs": [],
   "source": [
    "import numpy as np\n",
    "from numpy.linalg import svd\n",
    "A = np.array([[1,2],[1,0]])"
   ]
  },
  {
   "cell_type": "code",
   "execution_count": 9,
   "metadata": {},
   "outputs": [],
   "source": [
    "u,s,v=svd(A)"
   ]
  },
  {
   "cell_type": "code",
   "execution_count": 12,
   "metadata": {},
   "outputs": [
    {
     "name": "stdout",
     "output_type": "stream",
     "text": [
      "[[-0.97324899 -0.22975292]\n",
      " [-0.22975292  0.97324899]]\n",
      "[2.28824561 0.87403205]\n",
      "[[-0.52573111 -0.85065081]\n",
      " [ 0.85065081 -0.52573111]]\n"
     ]
    }
   ],
   "source": [
    "print(u)\n",
    "print(s)\n",
    "print(v)"
   ]
  },
  {
   "cell_type": "code",
   "execution_count": null,
   "metadata": {},
   "outputs": [],
   "source": []
  }
 ],
 "metadata": {
  "kernelspec": {
   "display_name": "Python 3",
   "language": "python",
   "name": "python3"
  },
  "language_info": {
   "codemirror_mode": {
    "name": "ipython",
    "version": 3
   },
   "file_extension": ".py",
   "mimetype": "text/x-python",
   "name": "python",
   "nbconvert_exporter": "python",
   "pygments_lexer": "ipython3",
   "version": "3.6.4"
  }
 },
 "nbformat": 4,
 "nbformat_minor": 2
}
